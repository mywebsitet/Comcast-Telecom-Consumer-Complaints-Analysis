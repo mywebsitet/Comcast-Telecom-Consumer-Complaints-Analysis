{
 "cells": [
  {
   "cell_type": "code",
   "execution_count": 1,
   "id": "65554c0b",
   "metadata": {},
   "outputs": [
    {
     "data": {
      "text/plain": [
       "['.ipynb_checkpoints',\n",
       " 'Comcast_telecom_complaints_data.csv',\n",
       " 'Comcast_telecom_complaints_data.ipynb']"
      ]
     },
     "execution_count": 1,
     "metadata": {},
     "output_type": "execute_result"
    }
   ],
   "source": [
    "# import required libraries\n",
    "import pandas as pd\n",
    "import numpy as np\n",
    "import matplotlib.pyplot as plt\n",
    "%matplotlib inline\n",
    "import seaborn as sns\n",
    "import os\n",
    "os.listdir()"
   ]
  },
  {
   "cell_type": "code",
   "execution_count": 2,
   "id": "a3dddbbc",
   "metadata": {},
   "outputs": [],
   "source": [
    "# read data set\n",
    "df_comcast = pd.read_csv('Comcast_telecom_complaints_data.csv')"
   ]
  },
  {
   "cell_type": "code",
   "execution_count": 3,
   "id": "e4ce01dd",
   "metadata": {},
   "outputs": [
    {
     "data": {
      "text/html": [
       "<div>\n",
       "<style scoped>\n",
       "    .dataframe tbody tr th:only-of-type {\n",
       "        vertical-align: middle;\n",
       "    }\n",
       "\n",
       "    .dataframe tbody tr th {\n",
       "        vertical-align: top;\n",
       "    }\n",
       "\n",
       "    .dataframe thead th {\n",
       "        text-align: right;\n",
       "    }\n",
       "</style>\n",
       "<table border=\"1\" class=\"dataframe\">\n",
       "  <thead>\n",
       "    <tr style=\"text-align: right;\">\n",
       "      <th></th>\n",
       "      <th>Ticket #</th>\n",
       "      <th>Customer Complaint</th>\n",
       "      <th>Date</th>\n",
       "      <th>Date_month_year</th>\n",
       "      <th>Time</th>\n",
       "      <th>Received Via</th>\n",
       "      <th>City</th>\n",
       "      <th>State</th>\n",
       "      <th>Zip code</th>\n",
       "      <th>Status</th>\n",
       "      <th>Filing on Behalf of Someone</th>\n",
       "    </tr>\n",
       "  </thead>\n",
       "  <tbody>\n",
       "    <tr>\n",
       "      <th>0</th>\n",
       "      <td>250635</td>\n",
       "      <td>Comcast Cable Internet Speeds</td>\n",
       "      <td>22-04-15</td>\n",
       "      <td>22-Apr-15</td>\n",
       "      <td>3:53:50 PM</td>\n",
       "      <td>Customer Care Call</td>\n",
       "      <td>Abingdon</td>\n",
       "      <td>Maryland</td>\n",
       "      <td>21009</td>\n",
       "      <td>Closed</td>\n",
       "      <td>No</td>\n",
       "    </tr>\n",
       "    <tr>\n",
       "      <th>1</th>\n",
       "      <td>223441</td>\n",
       "      <td>Payment disappear - service got disconnected</td>\n",
       "      <td>04-08-15</td>\n",
       "      <td>04-Aug-15</td>\n",
       "      <td>10:22:56 AM</td>\n",
       "      <td>Internet</td>\n",
       "      <td>Acworth</td>\n",
       "      <td>Georgia</td>\n",
       "      <td>30102</td>\n",
       "      <td>Closed</td>\n",
       "      <td>No</td>\n",
       "    </tr>\n",
       "    <tr>\n",
       "      <th>2</th>\n",
       "      <td>242732</td>\n",
       "      <td>Speed and Service</td>\n",
       "      <td>18-04-15</td>\n",
       "      <td>18-Apr-15</td>\n",
       "      <td>9:55:47 AM</td>\n",
       "      <td>Internet</td>\n",
       "      <td>Acworth</td>\n",
       "      <td>Georgia</td>\n",
       "      <td>30101</td>\n",
       "      <td>Closed</td>\n",
       "      <td>Yes</td>\n",
       "    </tr>\n",
       "    <tr>\n",
       "      <th>3</th>\n",
       "      <td>277946</td>\n",
       "      <td>Comcast Imposed a New Usage Cap of 300GB that ...</td>\n",
       "      <td>05-07-15</td>\n",
       "      <td>05-Jul-15</td>\n",
       "      <td>11:59:35 AM</td>\n",
       "      <td>Internet</td>\n",
       "      <td>Acworth</td>\n",
       "      <td>Georgia</td>\n",
       "      <td>30101</td>\n",
       "      <td>Open</td>\n",
       "      <td>Yes</td>\n",
       "    </tr>\n",
       "    <tr>\n",
       "      <th>4</th>\n",
       "      <td>307175</td>\n",
       "      <td>Comcast not working and no service to boot</td>\n",
       "      <td>26-05-15</td>\n",
       "      <td>26-May-15</td>\n",
       "      <td>1:25:26 PM</td>\n",
       "      <td>Internet</td>\n",
       "      <td>Acworth</td>\n",
       "      <td>Georgia</td>\n",
       "      <td>30101</td>\n",
       "      <td>Solved</td>\n",
       "      <td>No</td>\n",
       "    </tr>\n",
       "  </tbody>\n",
       "</table>\n",
       "</div>"
      ],
      "text/plain": [
       "  Ticket #                                 Customer Complaint      Date  \\\n",
       "0   250635                      Comcast Cable Internet Speeds  22-04-15   \n",
       "1   223441       Payment disappear - service got disconnected  04-08-15   \n",
       "2   242732                                  Speed and Service  18-04-15   \n",
       "3   277946  Comcast Imposed a New Usage Cap of 300GB that ...  05-07-15   \n",
       "4   307175         Comcast not working and no service to boot  26-05-15   \n",
       "\n",
       "  Date_month_year         Time        Received Via      City     State  \\\n",
       "0       22-Apr-15   3:53:50 PM  Customer Care Call  Abingdon  Maryland   \n",
       "1       04-Aug-15  10:22:56 AM            Internet   Acworth   Georgia   \n",
       "2       18-Apr-15   9:55:47 AM            Internet   Acworth   Georgia   \n",
       "3       05-Jul-15  11:59:35 AM            Internet   Acworth   Georgia   \n",
       "4       26-May-15   1:25:26 PM            Internet   Acworth   Georgia   \n",
       "\n",
       "   Zip code  Status Filing on Behalf of Someone  \n",
       "0     21009  Closed                          No  \n",
       "1     30102  Closed                          No  \n",
       "2     30101  Closed                         Yes  \n",
       "3     30101    Open                         Yes  \n",
       "4     30101  Solved                          No  "
      ]
     },
     "execution_count": 3,
     "metadata": {},
     "output_type": "execute_result"
    }
   ],
   "source": [
    "df_comcast.head()"
   ]
  },
  {
   "cell_type": "code",
   "execution_count": 4,
   "id": "4e309083",
   "metadata": {},
   "outputs": [
    {
     "data": {
      "text/plain": [
       "(2224, 11)"
      ]
     },
     "execution_count": 4,
     "metadata": {},
     "output_type": "execute_result"
    }
   ],
   "source": [
    "df_comcast.shape"
   ]
  },
  {
   "cell_type": "code",
   "execution_count": 5,
   "id": "48d1795b",
   "metadata": {},
   "outputs": [
    {
     "name": "stdout",
     "output_type": "stream",
     "text": [
      "<class 'pandas.core.frame.DataFrame'>\n",
      "RangeIndex: 2224 entries, 0 to 2223\n",
      "Data columns (total 11 columns):\n",
      " #   Column                       Non-Null Count  Dtype \n",
      "---  ------                       --------------  ----- \n",
      " 0   Ticket #                     2224 non-null   object\n",
      " 1   Customer Complaint           2224 non-null   object\n",
      " 2   Date                         2224 non-null   object\n",
      " 3   Date_month_year              2224 non-null   object\n",
      " 4   Time                         2224 non-null   object\n",
      " 5   Received Via                 2224 non-null   object\n",
      " 6   City                         2224 non-null   object\n",
      " 7   State                        2224 non-null   object\n",
      " 8   Zip code                     2224 non-null   int64 \n",
      " 9   Status                       2224 non-null   object\n",
      " 10  Filing on Behalf of Someone  2224 non-null   object\n",
      "dtypes: int64(1), object(10)\n",
      "memory usage: 191.2+ KB\n"
     ]
    }
   ],
   "source": [
    "df_comcast.info()"
   ]
  },
  {
   "cell_type": "code",
   "execution_count": 6,
   "id": "57343b7f",
   "metadata": {},
   "outputs": [
    {
     "data": {
      "text/html": [
       "<div>\n",
       "<style scoped>\n",
       "    .dataframe tbody tr th:only-of-type {\n",
       "        vertical-align: middle;\n",
       "    }\n",
       "\n",
       "    .dataframe tbody tr th {\n",
       "        vertical-align: top;\n",
       "    }\n",
       "\n",
       "    .dataframe thead th {\n",
       "        text-align: right;\n",
       "    }\n",
       "</style>\n",
       "<table border=\"1\" class=\"dataframe\">\n",
       "  <thead>\n",
       "    <tr style=\"text-align: right;\">\n",
       "      <th></th>\n",
       "      <th>Zip code</th>\n",
       "    </tr>\n",
       "  </thead>\n",
       "  <tbody>\n",
       "    <tr>\n",
       "      <th>count</th>\n",
       "      <td>2224.000000</td>\n",
       "    </tr>\n",
       "    <tr>\n",
       "      <th>mean</th>\n",
       "      <td>47994.393435</td>\n",
       "    </tr>\n",
       "    <tr>\n",
       "      <th>std</th>\n",
       "      <td>28885.279427</td>\n",
       "    </tr>\n",
       "    <tr>\n",
       "      <th>min</th>\n",
       "      <td>1075.000000</td>\n",
       "    </tr>\n",
       "    <tr>\n",
       "      <th>25%</th>\n",
       "      <td>30056.500000</td>\n",
       "    </tr>\n",
       "    <tr>\n",
       "      <th>50%</th>\n",
       "      <td>37211.000000</td>\n",
       "    </tr>\n",
       "    <tr>\n",
       "      <th>75%</th>\n",
       "      <td>77058.750000</td>\n",
       "    </tr>\n",
       "    <tr>\n",
       "      <th>max</th>\n",
       "      <td>99223.000000</td>\n",
       "    </tr>\n",
       "  </tbody>\n",
       "</table>\n",
       "</div>"
      ],
      "text/plain": [
       "           Zip code\n",
       "count   2224.000000\n",
       "mean   47994.393435\n",
       "std    28885.279427\n",
       "min     1075.000000\n",
       "25%    30056.500000\n",
       "50%    37211.000000\n",
       "75%    77058.750000\n",
       "max    99223.000000"
      ]
     },
     "execution_count": 6,
     "metadata": {},
     "output_type": "execute_result"
    }
   ],
   "source": [
    "df_comcast.describe()"
   ]
  },
  {
   "cell_type": "code",
   "execution_count": 7,
   "id": "2c761d89",
   "metadata": {},
   "outputs": [
    {
     "data": {
      "text/plain": [
       "Ticket #                       0\n",
       "Customer Complaint             0\n",
       "Date                           0\n",
       "Date_month_year                0\n",
       "Time                           0\n",
       "Received Via                   0\n",
       "City                           0\n",
       "State                          0\n",
       "Zip code                       0\n",
       "Status                         0\n",
       "Filing on Behalf of Someone    0\n",
       "dtype: int64"
      ]
     },
     "execution_count": 7,
     "metadata": {},
     "output_type": "execute_result"
    }
   ],
   "source": [
    "#check missing value\n",
    "df_comcast.isnull().sum().sort_values(ascending=True)"
   ]
  },
  {
   "cell_type": "markdown",
   "id": "2a22da79",
   "metadata": {},
   "source": [
    "### 2.Provide the trend chart for the number of complaints at monthly and daily granularity levels."
   ]
  },
  {
   "cell_type": "code",
   "execution_count": 8,
   "id": "469a9f2d",
   "metadata": {},
   "outputs": [
    {
     "data": {
      "text/plain": [
       "Ticket #                       object\n",
       "Customer Complaint             object\n",
       "Date                           object\n",
       "Date_month_year                object\n",
       "Time                           object\n",
       "Received Via                   object\n",
       "City                           object\n",
       "State                          object\n",
       "Zip code                        int64\n",
       "Status                         object\n",
       "Filing on Behalf of Someone    object\n",
       "dtype: object"
      ]
     },
     "execution_count": 8,
     "metadata": {},
     "output_type": "execute_result"
    }
   ],
   "source": [
    "df_comcast.dtypes"
   ]
  },
  {
   "cell_type": "code",
   "execution_count": 9,
   "id": "6d5e443f",
   "metadata": {},
   "outputs": [],
   "source": [
    "# Add Date Month year with Time and save it into Date_Full\n",
    "df_comcast['Date_full'] = df_comcast['Date_month_year']+ ' ' +df_comcast['Time']"
   ]
  },
  {
   "cell_type": "code",
   "execution_count": 10,
   "id": "f64cff8e",
   "metadata": {},
   "outputs": [
    {
     "data": {
      "text/plain": [
       "0        22-Apr-15 3:53:50 PM\n",
       "1       04-Aug-15 10:22:56 AM\n",
       "2        18-Apr-15 9:55:47 AM\n",
       "3       05-Jul-15 11:59:35 AM\n",
       "4        26-May-15 1:25:26 PM\n",
       "                ...          \n",
       "2219     04-Feb-15 9:13:18 AM\n",
       "2220     06-Feb-15 1:24:39 PM\n",
       "2221     06-Sep-15 5:28:41 PM\n",
       "2222    23-Jun-15 11:13:30 PM\n",
       "2223    24-Jun-15 10:28:33 PM\n",
       "Name: Date_full, Length: 2224, dtype: object"
      ]
     },
     "execution_count": 10,
     "metadata": {},
     "output_type": "execute_result"
    }
   ],
   "source": [
    "df_comcast['Date_full']"
   ]
  },
  {
   "cell_type": "code",
   "execution_count": 11,
   "id": "f0a54cf7",
   "metadata": {},
   "outputs": [],
   "source": [
    "#covert datetime format\n",
    "df_comcast['Date_full'] = pd.to_datetime(df_comcast['Date_full'])\n",
    "df_comcast['Date_month_year'] = pd.to_datetime(df_comcast['Date_month_year'])\n",
    "comcast_tele_consumer_monthly = df_comcast.set_index(df_comcast[\"Date_full\"])"
   ]
  },
  {
   "cell_type": "code",
   "execution_count": 12,
   "id": "297f4a6a",
   "metadata": {},
   "outputs": [
    {
     "data": {
      "text/plain": [
       "<AxesSubplot:xlabel='Date_full', ylabel='Number of company'>"
      ]
     },
     "execution_count": 12,
     "metadata": {},
     "output_type": "execute_result"
    },
    {
     "data": {
      "image/png": "[encoded data removed]",
      "text/plain": [
       "<Figure size 1440x576 with 1 Axes>"
      ]
     },
     "metadata": {
      "needs_background": "light"
     },
     "output_type": "display_data"
    }
   ],
   "source": [
    "# Provide the trend chart for the number of complaints at monthly granularity levels.\n",
    "#Increase Graph Size\n",
    "plt.figure(figsize=(20,8))\n",
    "plt.suptitle(\"Number of company monthly granularity levels\")\n",
    "plt.ylabel('Number of company')\n",
    "comcast_tele_consumer_monthly.groupby(pd.Grouper(freq=\"M\")).size().plot(color='red')"
   ]
  },
  {
   "cell_type": "code",
   "execution_count": 13,
   "id": "72607672",
   "metadata": {},
   "outputs": [
    {
     "data": {
      "text/plain": [
       "<AxesSubplot:xlabel='Date of Month', ylabel='Number of Company'>"
      ]
     },
     "execution_count": 13,
     "metadata": {},
     "output_type": "execute_result"
    },
    {
     "data": {
      "image/png": "[encoded data removed]",
      "text/plain": [
       "<Figure size 1296x576 with 1 Axes>"
      ]
     },
     "metadata": {
      "needs_background": "light"
     },
     "output_type": "display_data"
    }
   ],
   "source": [
    "# Provide the trend chart for the number of complaints at daily granularity levels.\n",
    "df_comcast['Date of Month'] = pd.to_datetime(df_comcast['Date'])\n",
    "comcast_tele_consumer_daily = df_comcast.set_index(df_comcast['Date of Month'])\n",
    "# plot \n",
    "plt.figure(figsize=(18,8))\n",
    "plt.suptitle(\"Number of Company daily granularity levels\")\n",
    "plt.ylabel(\"Number of Company\")\n",
    "comcast_tele_consumer_daily.groupby(pd.Grouper(freq = \"D\")).size().plot(color='red')"
   ]
  },
  {
   "cell_type": "markdown",
   "id": "8cc8df2c",
   "metadata": {},
   "source": [
    "#### 3. Provide a table with the frequency of complaint types."
   ]
  },
  {
   "cell_type": "code",
   "execution_count": 14,
   "id": "1d43038f",
   "metadata": {},
   "outputs": [
    {
     "data": {
      "text/plain": [
       "Comcast                     83\n",
       "Comcast Internet            18\n",
       "Comcast Data Cap            17\n",
       "comcast                     13\n",
       "Comcast Billing             11\n",
       "Data Caps                   11\n",
       "Comcast Data Caps           11\n",
       "Unfair Billing Practices     9\n",
       "Comcast data cap             8\n",
       "Comcast internet             8\n",
       "Name: Customer Complaint, dtype: int64"
      ]
     },
     "execution_count": 14,
     "metadata": {},
     "output_type": "execute_result"
    }
   ],
   "source": [
    "# To get the frequency of complaint types first we have to see all complaint types and check for duplicate, case sensentive\n",
    "# Incomplete data so that we can make analytics better\n",
    "df_comcast_complain_type = df_comcast['Customer Complaint'].value_counts()\n",
    "df_comcast_complain_type.head(10)"
   ]
  },
  {
   "cell_type": "code",
   "execution_count": 15,
   "id": "fe599e90",
   "metadata": {},
   "outputs": [
    {
     "data": {
      "text/plain": [
       "COMCAST                             102\n",
       "COMCAST DATA CAP                     30\n",
       "COMCAST INTERNET                     29\n",
       "COMCAST DATA CAPS                    21\n",
       "COMCAST BILLING                      18\n",
       "COMCAST SERVICE                      15\n",
       "INTERNET SPEED                       15\n",
       "UNFAIR BILLING PRACTICES             13\n",
       "DATA CAPS                            13\n",
       "DATA CAP                             12\n",
       "COMCAST COMPLAINT                    11\n",
       "COMCAST/XFINITY                      11\n",
       "COMCAST INTERNET SERVICE             10\n",
       "BILLING                               9\n",
       "BILLING ISSUES                        8\n",
       "COMCAST CABLE                         5\n",
       "INTERNET                              5\n",
       "COMCAST BILLING COMPLAINT             5\n",
       "COMCAST ISSUES                        5\n",
       "COMCAST BILLING PRACTICES             5\n",
       "SERVICE ISSUES                        5\n",
       "SLOW INTERNET                         5\n",
       "INTERNET SERVICE                      5\n",
       "COMPLAINT AGAINST COMCAST             5\n",
       "COMCAST UNFAIR BILLING PRACTICES      4\n",
       "Name: Customer Complaint, dtype: int64"
      ]
     },
     "execution_count": 15,
     "metadata": {},
     "output_type": "execute_result"
    }
   ],
   "source": [
    "# Better to convert all data into uper case or sentence case so duplicate value will shorted\n",
    "df_comcast_complain_type_upper = df_comcast['Customer Complaint'].str.upper().value_counts()\n",
    "df_comcast_complain_type_upper.head(25)"
   ]
  },
  {
   "cell_type": "markdown",
   "id": "c07a3375",
   "metadata": {},
   "source": [
    "### 4.Create a new categorical variable with value as Open and Closed. \n",
    "### Open & Pending is to be categorized as Open and Closed & Solved is to be categorized as Closed."
   ]
  },
  {
   "cell_type": "code",
   "execution_count": 16,
   "id": "3e8c251e",
   "metadata": {},
   "outputs": [
    {
     "data": {
      "text/plain": [
       "array(['Closed', 'Open', 'Solved', 'Pending'], dtype=object)"
      ]
     },
     "execution_count": 16,
     "metadata": {},
     "output_type": "execute_result"
    }
   ],
   "source": [
    "df_comcast['Status'].unique()"
   ]
  },
  {
   "cell_type": "code",
   "execution_count": 17,
   "id": "42343c44",
   "metadata": {},
   "outputs": [],
   "source": [
    "# Convert as per Instruction (Task 4) into New Column without changing the main data so that we can use the main data\n",
    "# in Future\n",
    "df_comcast['New Status'] = [\"Open\" if Status =='Open' or Status == 'Pending' else \"Closed\" for Status in df_comcast['Status']]"
   ]
  },
  {
   "cell_type": "code",
   "execution_count": 18,
   "id": "436531f2",
   "metadata": {},
   "outputs": [
    {
     "data": {
      "text/plain": [
       "array(['Closed', 'Open'], dtype=object)"
      ]
     },
     "execution_count": 18,
     "metadata": {},
     "output_type": "execute_result"
    }
   ],
   "source": [
    "df_comcast['New Status'].unique()"
   ]
  },
  {
   "cell_type": "code",
   "execution_count": 19,
   "id": "52ab0626",
   "metadata": {},
   "outputs": [],
   "source": [
    "df_comcast_state_by_status = pd.crosstab(df_comcast.State,df_comcast['New Status'])"
   ]
  },
  {
   "cell_type": "code",
   "execution_count": 20,
   "id": "5c27c61b",
   "metadata": {},
   "outputs": [
    {
     "data": {
      "text/html": [
       "<div>\n",
       "<style scoped>\n",
       "    .dataframe tbody tr th:only-of-type {\n",
       "        vertical-align: middle;\n",
       "    }\n",
       "\n",
       "    .dataframe tbody tr th {\n",
       "        vertical-align: top;\n",
       "    }\n",
       "\n",
       "    .dataframe thead th {\n",
       "        text-align: right;\n",
       "    }\n",
       "</style>\n",
       "<table border=\"1\" class=\"dataframe\">\n",
       "  <thead>\n",
       "    <tr style=\"text-align: right;\">\n",
       "      <th>New Status</th>\n",
       "      <th>Closed</th>\n",
       "      <th>Open</th>\n",
       "    </tr>\n",
       "    <tr>\n",
       "      <th>State</th>\n",
       "      <th></th>\n",
       "      <th></th>\n",
       "    </tr>\n",
       "  </thead>\n",
       "  <tbody>\n",
       "    <tr>\n",
       "      <th>Alabama</th>\n",
       "      <td>17</td>\n",
       "      <td>9</td>\n",
       "    </tr>\n",
       "    <tr>\n",
       "      <th>Arizona</th>\n",
       "      <td>14</td>\n",
       "      <td>6</td>\n",
       "    </tr>\n",
       "    <tr>\n",
       "      <th>Arkansas</th>\n",
       "      <td>6</td>\n",
       "      <td>0</td>\n",
       "    </tr>\n",
       "    <tr>\n",
       "      <th>California</th>\n",
       "      <td>159</td>\n",
       "      <td>61</td>\n",
       "    </tr>\n",
       "    <tr>\n",
       "      <th>Colorado</th>\n",
       "      <td>58</td>\n",
       "      <td>22</td>\n",
       "    </tr>\n",
       "    <tr>\n",
       "      <th>Connecticut</th>\n",
       "      <td>9</td>\n",
       "      <td>3</td>\n",
       "    </tr>\n",
       "    <tr>\n",
       "      <th>Delaware</th>\n",
       "      <td>8</td>\n",
       "      <td>4</td>\n",
       "    </tr>\n",
       "    <tr>\n",
       "      <th>District Of Columbia</th>\n",
       "      <td>14</td>\n",
       "      <td>2</td>\n",
       "    </tr>\n",
       "    <tr>\n",
       "      <th>District of Columbia</th>\n",
       "      <td>1</td>\n",
       "      <td>0</td>\n",
       "    </tr>\n",
       "    <tr>\n",
       "      <th>Florida</th>\n",
       "      <td>201</td>\n",
       "      <td>39</td>\n",
       "    </tr>\n",
       "    <tr>\n",
       "      <th>Georgia</th>\n",
       "      <td>208</td>\n",
       "      <td>80</td>\n",
       "    </tr>\n",
       "    <tr>\n",
       "      <th>Illinois</th>\n",
       "      <td>135</td>\n",
       "      <td>29</td>\n",
       "    </tr>\n",
       "    <tr>\n",
       "      <th>Indiana</th>\n",
       "      <td>50</td>\n",
       "      <td>9</td>\n",
       "    </tr>\n",
       "    <tr>\n",
       "      <th>Iowa</th>\n",
       "      <td>1</td>\n",
       "      <td>0</td>\n",
       "    </tr>\n",
       "    <tr>\n",
       "      <th>Kansas</th>\n",
       "      <td>1</td>\n",
       "      <td>1</td>\n",
       "    </tr>\n",
       "    <tr>\n",
       "      <th>Kentucky</th>\n",
       "      <td>4</td>\n",
       "      <td>3</td>\n",
       "    </tr>\n",
       "    <tr>\n",
       "      <th>Louisiana</th>\n",
       "      <td>12</td>\n",
       "      <td>1</td>\n",
       "    </tr>\n",
       "    <tr>\n",
       "      <th>Maine</th>\n",
       "      <td>3</td>\n",
       "      <td>2</td>\n",
       "    </tr>\n",
       "    <tr>\n",
       "      <th>Maryland</th>\n",
       "      <td>63</td>\n",
       "      <td>15</td>\n",
       "    </tr>\n",
       "    <tr>\n",
       "      <th>Massachusetts</th>\n",
       "      <td>50</td>\n",
       "      <td>11</td>\n",
       "    </tr>\n",
       "    <tr>\n",
       "      <th>Michigan</th>\n",
       "      <td>92</td>\n",
       "      <td>23</td>\n",
       "    </tr>\n",
       "    <tr>\n",
       "      <th>Minnesota</th>\n",
       "      <td>29</td>\n",
       "      <td>4</td>\n",
       "    </tr>\n",
       "    <tr>\n",
       "      <th>Mississippi</th>\n",
       "      <td>23</td>\n",
       "      <td>16</td>\n",
       "    </tr>\n",
       "    <tr>\n",
       "      <th>Missouri</th>\n",
       "      <td>3</td>\n",
       "      <td>1</td>\n",
       "    </tr>\n",
       "    <tr>\n",
       "      <th>Montana</th>\n",
       "      <td>1</td>\n",
       "      <td>0</td>\n",
       "    </tr>\n",
       "    <tr>\n",
       "      <th>Nevada</th>\n",
       "      <td>1</td>\n",
       "      <td>0</td>\n",
       "    </tr>\n",
       "    <tr>\n",
       "      <th>New Hampshire</th>\n",
       "      <td>8</td>\n",
       "      <td>4</td>\n",
       "    </tr>\n",
       "    <tr>\n",
       "      <th>New Jersey</th>\n",
       "      <td>56</td>\n",
       "      <td>19</td>\n",
       "    </tr>\n",
       "    <tr>\n",
       "      <th>New Mexico</th>\n",
       "      <td>11</td>\n",
       "      <td>4</td>\n",
       "    </tr>\n",
       "    <tr>\n",
       "      <th>New York</th>\n",
       "      <td>6</td>\n",
       "      <td>0</td>\n",
       "    </tr>\n",
       "    <tr>\n",
       "      <th>North Carolina</th>\n",
       "      <td>3</td>\n",
       "      <td>0</td>\n",
       "    </tr>\n",
       "    <tr>\n",
       "      <th>Ohio</th>\n",
       "      <td>3</td>\n",
       "      <td>0</td>\n",
       "    </tr>\n",
       "    <tr>\n",
       "      <th>Oregon</th>\n",
       "      <td>36</td>\n",
       "      <td>13</td>\n",
       "    </tr>\n",
       "    <tr>\n",
       "      <th>Pennsylvania</th>\n",
       "      <td>110</td>\n",
       "      <td>20</td>\n",
       "    </tr>\n",
       "    <tr>\n",
       "      <th>Rhode Island</th>\n",
       "      <td>1</td>\n",
       "      <td>0</td>\n",
       "    </tr>\n",
       "    <tr>\n",
       "      <th>South Carolina</th>\n",
       "      <td>15</td>\n",
       "      <td>3</td>\n",
       "    </tr>\n",
       "    <tr>\n",
       "      <th>Tennessee</th>\n",
       "      <td>96</td>\n",
       "      <td>47</td>\n",
       "    </tr>\n",
       "    <tr>\n",
       "      <th>Texas</th>\n",
       "      <td>49</td>\n",
       "      <td>22</td>\n",
       "    </tr>\n",
       "    <tr>\n",
       "      <th>Utah</th>\n",
       "      <td>16</td>\n",
       "      <td>6</td>\n",
       "    </tr>\n",
       "    <tr>\n",
       "      <th>Vermont</th>\n",
       "      <td>2</td>\n",
       "      <td>1</td>\n",
       "    </tr>\n",
       "    <tr>\n",
       "      <th>Virginia</th>\n",
       "      <td>49</td>\n",
       "      <td>11</td>\n",
       "    </tr>\n",
       "    <tr>\n",
       "      <th>Washington</th>\n",
       "      <td>75</td>\n",
       "      <td>23</td>\n",
       "    </tr>\n",
       "    <tr>\n",
       "      <th>West Virginia</th>\n",
       "      <td>8</td>\n",
       "      <td>3</td>\n",
       "    </tr>\n",
       "  </tbody>\n",
       "</table>\n",
       "</div>"
      ],
      "text/plain": [
       "New Status            Closed  Open\n",
       "State                             \n",
       "Alabama                   17     9\n",
       "Arizona                   14     6\n",
       "Arkansas                   6     0\n",
       "California               159    61\n",
       "Colorado                  58    22\n",
       "Connecticut                9     3\n",
       "Delaware                   8     4\n",
       "District Of Columbia      14     2\n",
       "District of Columbia       1     0\n",
       "Florida                  201    39\n",
       "Georgia                  208    80\n",
       "Illinois                 135    29\n",
       "Indiana                   50     9\n",
       "Iowa                       1     0\n",
       "Kansas                     1     1\n",
       "Kentucky                   4     3\n",
       "Louisiana                 12     1\n",
       "Maine                      3     2\n",
       "Maryland                  63    15\n",
       "Massachusetts             50    11\n",
       "Michigan                  92    23\n",
       "Minnesota                 29     4\n",
       "Mississippi               23    16\n",
       "Missouri                   3     1\n",
       "Montana                    1     0\n",
       "Nevada                     1     0\n",
       "New Hampshire              8     4\n",
       "New Jersey                56    19\n",
       "New Mexico                11     4\n",
       "New York                   6     0\n",
       "North Carolina             3     0\n",
       "Ohio                       3     0\n",
       "Oregon                    36    13\n",
       "Pennsylvania             110    20\n",
       "Rhode Island               1     0\n",
       "South Carolina            15     3\n",
       "Tennessee                 96    47\n",
       "Texas                     49    22\n",
       "Utah                      16     6\n",
       "Vermont                    2     1\n",
       "Virginia                  49    11\n",
       "Washington                75    23\n",
       "West Virginia              8     3"
      ]
     },
     "execution_count": 20,
     "metadata": {},
     "output_type": "execute_result"
    }
   ],
   "source": [
    "df_comcast_state_by_status"
   ]
  },
  {
   "cell_type": "code",
   "execution_count": 21,
   "id": "b5b9ed1d",
   "metadata": {},
   "outputs": [
    {
     "data": {
      "text/plain": [
       "<AxesSubplot:title={'center':'state wise Status Complaints'}, xlabel='State'>"
      ]
     },
     "execution_count": 21,
     "metadata": {},
     "output_type": "execute_result"
    },
    {
     "data": {
      "image/png": "[encoded data removed]",
      "text/plain": [
       "<Figure size 1152x432 with 1 Axes>"
      ]
     },
     "metadata": {
      "needs_background": "light"
     },
     "output_type": "display_data"
    }
   ],
   "source": [
    "df_comcast_state_by_status.plot(kind = 'bar',figsize=(16,6),stacked=True,title=\"state wise Status Complaints\")"
   ]
  },
  {
   "cell_type": "code",
   "execution_count": null,
   "id": "d09c3baa",
   "metadata": {},
   "outputs": [],
   "source": []
  },
  {
   "cell_type": "markdown",
   "id": "034282b0",
   "metadata": {},
   "source": [
    "### 5. Which state has the highest percentage of unresolved complaints"
   ]
  },
  {
   "cell_type": "code",
   "execution_count": 22,
   "id": "27940d89",
   "metadata": {},
   "outputs": [],
   "source": [
    "df_comcast_unsloved_complaint = df_comcast[df_comcast['New Status']=='Open']"
   ]
  },
  {
   "cell_type": "code",
   "execution_count": 23,
   "id": "763e0bd2",
   "metadata": {},
   "outputs": [
    {
     "data": {
      "text/plain": [
       "Georgia                 80\n",
       "California              61\n",
       "Tennessee               47\n",
       "Florida                 39\n",
       "Illinois                29\n",
       "Michigan                23\n",
       "Washington              23\n",
       "Texas                   22\n",
       "Colorado                22\n",
       "Pennsylvania            20\n",
       "New Jersey              19\n",
       "Mississippi             16\n",
       "Maryland                15\n",
       "Oregon                  13\n",
       "Massachusetts           11\n",
       "Virginia                11\n",
       "Indiana                  9\n",
       "Alabama                  9\n",
       "Arizona                  6\n",
       "Utah                     6\n",
       "New Hampshire            4\n",
       "Delaware                 4\n",
       "Minnesota                4\n",
       "New Mexico               4\n",
       "Connecticut              3\n",
       "West Virginia            3\n",
       "South Carolina           3\n",
       "Kentucky                 3\n",
       "Maine                    2\n",
       "District Of Columbia     2\n",
       "Missouri                 1\n",
       "Vermont                  1\n",
       "Kansas                   1\n",
       "Louisiana                1\n",
       "Name: State, dtype: int64"
      ]
     },
     "execution_count": 23,
     "metadata": {},
     "output_type": "execute_result"
    }
   ],
   "source": [
    "df_comcast_unsloved_complaint_value_count=df_comcast_unsloved_complaint['State'].value_counts()\n",
    "df_comcast_unsloved_complaint_value_count"
   ]
  },
  {
   "cell_type": "code",
   "execution_count": 39,
   "id": "9a697228",
   "metadata": {},
   "outputs": [
    {
     "data": {
      "text/plain": [
       "Text(0.5, 1.0, 'Highest percentage of unresolved complaints \\n')"
      ]
     },
     "execution_count": 39,
     "metadata": {},
     "output_type": "execute_result"
    },
    {
     "data": {
      "image/png": "[encoded data removed]",
      "text/plain": [
       "<Figure size 1152x432 with 1 Axes>"
      ]
     },
     "metadata": {
      "needs_background": "light"
     },
     "output_type": "display_data"
    }
   ],
   "source": [
    "df_comcast_unsloved_complaint_value_count.plot(kind='bar',figsize=(16,6),color='red')\n",
    "plt.title(\"Highest percentage of unresolved complaints \\n\")"
   ]
  },
  {
   "cell_type": "markdown",
   "id": "7e71fea4",
   "metadata": {},
   "source": [
    "### 9. Provide the percentage of complaints resolved till date, \n",
    "### which were received through the Internet and customer care calls."
   ]
  },
  {
   "cell_type": "code",
   "execution_count": 25,
   "id": "89774728",
   "metadata": {},
   "outputs": [
    {
     "data": {
      "text/plain": [
       "array(['Customer Care Call', 'Internet'], dtype=object)"
      ]
     },
     "execution_count": 25,
     "metadata": {},
     "output_type": "execute_result"
    }
   ],
   "source": [
    "df_comcast['Received Via'].unique()"
   ]
  },
  {
   "cell_type": "code",
   "execution_count": 26,
   "id": "cba5acba",
   "metadata": {},
   "outputs": [
    {
     "data": {
      "text/plain": [
       "Customer Care Call    1119\n",
       "Internet              1105\n",
       "Name: Received Via, dtype: int64"
      ]
     },
     "execution_count": 26,
     "metadata": {},
     "output_type": "execute_result"
    }
   ],
   "source": [
    "df_comcast['Received Via'].value_counts()"
   ]
  },
  {
   "cell_type": "code",
   "execution_count": 27,
   "id": "f7b68afc",
   "metadata": {},
   "outputs": [
    {
     "data": {
      "text/plain": [
       "Customer Care Call    0.503147\n",
       "Internet              0.496853\n",
       "Name: Received Via, dtype: float64"
      ]
     },
     "execution_count": 27,
     "metadata": {},
     "output_type": "execute_result"
    }
   ],
   "source": [
    "df_comcast['Received Via'].value_counts()/df_comcast['Received Via'].count()"
   ]
  },
  {
   "cell_type": "code",
   "execution_count": 33,
   "id": "9d460365",
   "metadata": {},
   "outputs": [],
   "source": [
    "value = df_comcast['New Status'][df_comcast['Received Via']=='Internet'].value_counts()"
   ]
  },
  {
   "cell_type": "code",
   "execution_count": 34,
   "id": "6e938b88",
   "metadata": {},
   "outputs": [
    {
     "data": {
      "text/plain": [
       "Closed    843\n",
       "Open      262\n",
       "Name: New Status, dtype: int64"
      ]
     },
     "execution_count": 34,
     "metadata": {},
     "output_type": "execute_result"
    }
   ],
   "source": [
    "value"
   ]
  },
  {
   "cell_type": "code",
   "execution_count": 37,
   "id": "3808312c",
   "metadata": {},
   "outputs": [
    {
     "data": {
      "text/plain": [
       "<AxesSubplot:title={'center':'Complaints Status through the Internet & Customer Care Calls\\n'}, ylabel='New Status'>"
      ]
     },
     "execution_count": 37,
     "metadata": {},
     "output_type": "execute_result"
    },
    {
     "data": {
      "image/png": "[encoded data removed]",
      "text/plain": [
       "<Figure size 1008x432 with 1 Axes>"
      ]
     },
     "metadata": {},
     "output_type": "display_data"
    }
   ],
   "source": [
    "myexplode = [0.1, 0]\n",
    "plt.title('Complaints Status through the Internet & Customer Care Calls\\n')\n",
    "df_comcast['New Status'][df_comcast['Received Via']=='Internet'].value_counts().plot(kind='pie',explode = myexplode,autopct='%1.1f%%',\n",
    "                        figsize = (14,6))"
   ]
  },
  {
   "cell_type": "code",
   "execution_count": null,
   "id": "ab424adb",
   "metadata": {},
   "outputs": [],
   "source": []
  }
 ],
 "metadata": {
  "kernelspec": {
   "display_name": "Python 3",
   "language": "python",
   "name": "python3"
  },
  "language_info": {
   "codemirror_mode": {
    "name": "ipython",
    "version": 3
   },
   "file_extension": ".py",
   "mimetype": "text/x-python",
   "name": "python",
   "nbconvert_exporter": "python",
   "pygments_lexer": "ipython3",
   "version": "3.7.11"
  }
 },
 "nbformat": 4,
 "nbformat_minor": 5
}
